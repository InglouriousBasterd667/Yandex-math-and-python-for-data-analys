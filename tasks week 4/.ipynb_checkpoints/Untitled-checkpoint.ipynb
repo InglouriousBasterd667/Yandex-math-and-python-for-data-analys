{
 "cells": [
  {
   "cell_type": "markdown",
   "metadata": {},
   "source": []
  },
  {
   "cell_type": "code",
   "execution_count": 1,
   "metadata": {
    "collapsed": true
   },
   "outputs": [],
   "source": [
    "import pandas as pd\n",
    "import numpy as np\n",
    "import matplotlib.pyplot as plt\n",
    "import scipy.stats as sts\n",
    "%matplotlib inline"
   ]
  },
  {
   "cell_type": "code",
   "execution_count": 6,
   "metadata": {
    "collapsed": false
   },
   "outputs": [
    {
     "data": {
      "text/plain": [
       "(array([ 0.53139579,  1.41024268,  1.83944698,  1.60440653,  1.41024268,\n",
       "         1.08322989,  1.03213414,  0.69490219,  0.41898515,  0.19416385]),\n",
       " array([ 0.00155434,  0.09940984,  0.19726533,  0.29512083,  0.39297633,\n",
       "         0.49083183,  0.58868733,  0.68654282,  0.78439832,  0.88225382,\n",
       "         0.98010932]),\n",
       " <a list of 10 Patch objects>)"
      ]
     },
     "execution_count": 6,
     "metadata": {},
     "output_type": "execute_result"
    },
    {
     "data": {
      "image/png": "[encoded data removed]",
      "text/plain": [
       "<matplotlib.figure.Figure at 0x11928e7d0>"
      ]
     },
     "metadata": {},
     "output_type": "display_data"
    }
   ],
   "source": [
    "c = 0.2\n",
    "n = 1000\n",
    "rvs = sts.triang.rvs(c, size=n)\n",
    "x = np.linspace(sts.triang.ppf(0.01, c), sts.triang.ppf(0.99, c), 1000)\n",
    "plt.plot(x, sts.triang.pdf(x, c),'r-', lw=5, alpha=0.6, label='triang pdf')\n",
    "plt.hist(rvs, normed = True)"
   ]
  },
  {
   "cell_type": "code",
   "execution_count": null,
   "metadata": {
    "collapsed": true
   },
   "outputs": [],
   "source": []
  }
 ],
 "metadata": {
  "kernelspec": {
   "display_name": "Python 2",
   "language": "python",
   "name": "python2"
  },
  "language_info": {
   "codemirror_mode": {
    "name": "ipython",
    "version": 2
   },
   "file_extension": ".py",
   "mimetype": "text/x-python",
   "name": "python",
   "nbconvert_exporter": "python",
   "pygments_lexer": "ipython2",
   "version": "2.7.11"
  }
 },
 "nbformat": 4,
 "nbformat_minor": 0
}
